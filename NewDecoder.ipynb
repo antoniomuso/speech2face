{
  "nbformat": 4,
  "nbformat_minor": 0,
  "metadata": {
    "colab": {
      "name": "Untitled0.ipynb",
      "provenance": [],
      "include_colab_link": true
    },
    "kernelspec": {
      "name": "python3",
      "display_name": "Python 3"
    },
    "accelerator": "GPU"
  },
  "cells": [
    {
      "cell_type": "markdown",
      "metadata": {
        "id": "view-in-github",
        "colab_type": "text"
      },
      "source": [
        "<a href=\"https://colab.research.google.com/github/antoniomuso/speech2face/blob/master/NewDecoder.ipynb\" target=\"_parent\"><img src=\"https://colab.research.google.com/assets/colab-badge.svg\" alt=\"Open In Colab\"/></a>"
      ]
    },
    {
      "cell_type": "code",
      "metadata": {
        "id": "CYdMtmJooq6M",
        "colab_type": "code",
        "colab": {
          "base_uri": "https://localhost:8080/",
          "height": 34
        },
        "outputId": "fdacf098-cd1a-43a2-d9a1-e3ac079afa04"
      },
      "source": [
        "from google.colab import drive\n",
        "drive.mount('/content/drive')"
      ],
      "execution_count": 1,
      "outputs": [
        {
          "output_type": "stream",
          "text": [
            "Drive already mounted at /content/drive; to attempt to forcibly remount, call drive.mount(\"/content/drive\", force_remount=True).\n"
          ],
          "name": "stdout"
        }
      ]
    },
    {
      "cell_type": "code",
      "metadata": {
        "id": "Yk88JxlKquen",
        "colab_type": "code",
        "colab": {}
      },
      "source": [
        "vox1_path = \"/content/drive/My Drive/Speech2Face/vox1_dataset/\"\n",
        "img = vox1_path+\"unzippedFaces\"\n"
      ],
      "execution_count": 2,
      "outputs": []
    },
    {
      "cell_type": "code",
      "metadata": {
        "id": "w4XC5nS4thFS",
        "colab_type": "code",
        "colab": {}
      },
      "source": [
        "# !wget http://www.robots.ox.ac.uk/~vgg/research/CMBiometrics/data/zippedFaces.tar.gz \n",
        "# !tar zxvf zippedFaces.tar.gz -C \"/content/drive/My Drive/Speech2Face/vox1_dataset/\""
      ],
      "execution_count": 3,
      "outputs": []
    },
    {
      "cell_type": "code",
      "metadata": {
        "id": "7eFsvXPivKgI",
        "colab_type": "code",
        "colab": {}
      },
      "source": [
        "# !curl --user voxceleb1912:0s42xuw6 -o \"/content/drive/My Drive/Speech2Face/ff/vox.zip\" http://www.robots.ox.ac.uk/~vgg/data/voxceleb/vox1a/vox1_test_wav.zip"
      ],
      "execution_count": 4,
      "outputs": []
    },
    {
      "cell_type": "code",
      "metadata": {
        "id": "k6SgTIZoqwYC",
        "colab_type": "code",
        "colab": {}
      },
      "source": [
        "import glob\n",
        "\n",
        "import numpy as np\n",
        "import sys\n",
        "\n",
        "from PIL import Image\n",
        "from torch.utils.data import Dataset\n",
        "import  torchvision.transforms as transforms\n",
        "from torchvision.datasets import ImageFolder\n",
        "\n",
        "\n",
        "def load_metadata(data_file_path):\n",
        "    data_list = []\n",
        "    with open(data_file_path, \"r\") as f:\n",
        "        for line in f:\n",
        "            data_list.append(line.rstrip(\"\\n\").split(\",\"))\n",
        "    return data_list\n",
        "\n",
        "\n",
        "class _Normalize_Tensor(object):\n",
        "    def __init__(self, color_mean, color_std):\n",
        "        self.color_mean = color_mean\n",
        "        self.color_std = color_std\n",
        "\n",
        "    def __call__(self, img):\n",
        "        # Convert image to Tensor\n",
        "        img = transforms.functional.to_tensor(img)\n",
        "\n",
        "        # Normalize image by the parameter of pre-trained face-encoder\n",
        "        img = transforms.functional.normalize(\n",
        "            img, self.color_mean, self.color_std)\n",
        "\n",
        "        return img\n",
        "\n",
        "class EmbedImagePairs(Dataset):\n",
        "    def __init__(self, data_list_path, face_encoder, mean, std, device, size=64):\n",
        "        super().__init__()\n",
        "        self.images = ImageFolder(data_list_path)\n",
        "\n",
        "        self.face_encoder = face_encoder\n",
        "\n",
        "        self.color_mean = mean\n",
        "        self.color_std = std\n",
        "        \n",
        "        self.device = device\n",
        "        self.size = size\n",
        "\n",
        "        # Transform input for face-encoder\n",
        "        self.transform_fe = transforms.Compose([\n",
        "            transforms.Resize((224, 224)),\n",
        "            _Normalize_Tensor(self.color_mean, self.color_std)\n",
        "        ])\n",
        "\n",
        "        self.transform_fd = transforms.Compose([\n",
        "            transforms.Resize((self.size, self.size)),\n",
        "            transforms.ToTensor()\n",
        "        ])\n",
        "    \n",
        "    def __len__(self):\n",
        "        return len(self.images)\n",
        "    \n",
        "    def __getitem__(self, idx):\n",
        "        # Load face-image\n",
        "        image = self.images[idx][0]\n",
        "\n",
        "        # convert face-images into 4096-dim vectors\n",
        "        self.face_encoder.eval()\n",
        "        face_vectors = self.face_encoder(\n",
        "            self.transform_fe(image).unsqueeze_(0).to(self.device))\n",
        "\n",
        "        image_ = self.transform_fd(image)\n",
        "\n",
        "        return face_vectors, image_"
      ],
      "execution_count": 5,
      "outputs": []
    },
    {
      "cell_type": "code",
      "metadata": {
        "id": "Io7T0B-dq8eG",
        "colab_type": "code",
        "colab": {}
      },
      "source": [
        "import torch\n",
        "import torch.nn as nn\n",
        "\n",
        "\n",
        "class Vgg_face_dag(nn.Module):\n",
        "\n",
        "    def __init__(self):\n",
        "        super(Vgg_face_dag, self).__init__()\n",
        "        self.meta = {'mean': [129.186279296875, 104.76238250732422, 93.59396362304688],\n",
        "                     'std': [1, 1, 1],\n",
        "                     'imageSize': [224, 224, 3]}\n",
        "        self.conv1_1 = nn.Conv2d(3, 64, kernel_size=[3, 3], stride=(1, 1), padding=(1, 1))\n",
        "        self.relu1_1 = nn.ReLU(inplace=True)\n",
        "        self.conv1_2 = nn.Conv2d(64, 64, kernel_size=[3, 3], stride=(1, 1), padding=(1, 1))\n",
        "        self.relu1_2 = nn.ReLU(inplace=True)\n",
        "        self.pool1 = nn.MaxPool2d(kernel_size=[2, 2], stride=[2, 2], padding=0, dilation=1, ceil_mode=False)\n",
        "        self.conv2_1 = nn.Conv2d(64, 128, kernel_size=[3, 3], stride=(1, 1), padding=(1, 1))\n",
        "        self.relu2_1 = nn.ReLU(inplace=True)\n",
        "        self.conv2_2 = nn.Conv2d(128, 128, kernel_size=[3, 3], stride=(1, 1), padding=(1, 1))\n",
        "        self.relu2_2 = nn.ReLU(inplace=True)\n",
        "        self.pool2 = nn.MaxPool2d(kernel_size=[2, 2], stride=[2, 2], padding=0, dilation=1, ceil_mode=False)\n",
        "        self.conv3_1 = nn.Conv2d(128, 256, kernel_size=[3, 3], stride=(1, 1), padding=(1, 1))\n",
        "        self.relu3_1 = nn.ReLU(inplace=True)\n",
        "        self.conv3_2 = nn.Conv2d(256, 256, kernel_size=[3, 3], stride=(1, 1), padding=(1, 1))\n",
        "        self.relu3_2 = nn.ReLU(inplace=True)\n",
        "        self.conv3_3 = nn.Conv2d(256, 256, kernel_size=[3, 3], stride=(1, 1), padding=(1, 1))\n",
        "        self.relu3_3 = nn.ReLU(inplace=True)\n",
        "        self.pool3 = nn.MaxPool2d(kernel_size=[2, 2], stride=[2, 2], padding=0, dilation=1, ceil_mode=False)\n",
        "        self.conv4_1 = nn.Conv2d(256, 512, kernel_size=[3, 3], stride=(1, 1), padding=(1, 1))\n",
        "        self.relu4_1 = nn.ReLU(inplace=True)\n",
        "        self.conv4_2 = nn.Conv2d(512, 512, kernel_size=[3, 3], stride=(1, 1), padding=(1, 1))\n",
        "        self.relu4_2 = nn.ReLU(inplace=True)\n",
        "        self.conv4_3 = nn.Conv2d(512, 512, kernel_size=[3, 3], stride=(1, 1), padding=(1, 1))\n",
        "        self.relu4_3 = nn.ReLU(inplace=True)\n",
        "        self.pool4 = nn.MaxPool2d(kernel_size=[2, 2], stride=[2, 2], padding=0, dilation=1, ceil_mode=False)\n",
        "        self.conv5_1 = nn.Conv2d(512, 512, kernel_size=[3, 3], stride=(1, 1), padding=(1, 1))\n",
        "        self.relu5_1 = nn.ReLU(inplace=True)\n",
        "        self.conv5_2 = nn.Conv2d(512, 512, kernel_size=[3, 3], stride=(1, 1), padding=(1, 1))\n",
        "        self.relu5_2 = nn.ReLU(inplace=True)\n",
        "        self.conv5_3 = nn.Conv2d(512, 512, kernel_size=[3, 3], stride=(1, 1), padding=(1, 1))\n",
        "        self.relu5_3 = nn.ReLU(inplace=True)\n",
        "        self.pool5 = nn.MaxPool2d(kernel_size=[2, 2], stride=[2, 2], padding=0, dilation=1, ceil_mode=False)\n",
        "        self.fc6 = nn.Linear(in_features=25088, out_features=4096, bias=True)\n",
        "        self.relu6 = nn.ReLU(inplace=True)\n",
        "        self.dropout6 = nn.Dropout(p=0.5)\n",
        "        self.fc7 = nn.Linear(in_features=4096, out_features=4096, bias=True)\n",
        "        self.relu7 = nn.ReLU(inplace=True)\n",
        "        self.dropout7 = nn.Dropout(p=0.5)\n",
        "        self.fc8 = nn.Linear(in_features=4096, out_features=2622, bias=True)\n",
        "\n",
        "    def forward(self, x0, is_fc8=False):\n",
        "        x1 = self.conv1_1(x0)\n",
        "        x2 = self.relu1_1(x1)\n",
        "        x3 = self.conv1_2(x2)\n",
        "        x4 = self.relu1_2(x3)\n",
        "        x5 = self.pool1(x4)\n",
        "        x6 = self.conv2_1(x5)\n",
        "        x7 = self.relu2_1(x6)\n",
        "        x8 = self.conv2_2(x7)\n",
        "        x9 = self.relu2_2(x8)\n",
        "        x10 = self.pool2(x9)\n",
        "        x11 = self.conv3_1(x10)\n",
        "        x12 = self.relu3_1(x11)\n",
        "        x13 = self.conv3_2(x12)\n",
        "        x14 = self.relu3_2(x13)\n",
        "        x15 = self.conv3_3(x14)\n",
        "        x16 = self.relu3_3(x15)\n",
        "        x17 = self.pool3(x16)\n",
        "        x18 = self.conv4_1(x17)\n",
        "        x19 = self.relu4_1(x18)\n",
        "        x20 = self.conv4_2(x19)\n",
        "        x21 = self.relu4_2(x20)\n",
        "        x22 = self.conv4_3(x21)\n",
        "        x23 = self.relu4_3(x22)\n",
        "        x24 = self.pool4(x23)\n",
        "        x25 = self.conv5_1(x24)\n",
        "        x26 = self.relu5_1(x25)\n",
        "        x27 = self.conv5_2(x26)\n",
        "        x28 = self.relu5_2(x27)\n",
        "        x29 = self.conv5_3(x28)\n",
        "        x30 = self.relu5_3(x29)\n",
        "        x31_preflatten = self.pool5(x30)\n",
        "        x31 = x31_preflatten.view(x31_preflatten.size(0), -1)\n",
        "        x32 = self.fc6(x31)\n",
        "        x33 = self.relu6(x32)\n",
        "        x34 = self.dropout6(x33)\n",
        "        x35 = self.fc7(x34)\n",
        "        x36 = self.relu7(x35)\n",
        "        x37 = self.dropout7(x36)\n",
        "        if is_fc8:\n",
        "            x38 = self.fc8(x37)\n",
        "        else:\n",
        "            x38 = x37\n",
        "        return x38\n",
        "\n",
        "\n",
        "def vgg_face_dag(weights_path=None, **kwargs):\n",
        "    \"\"\"\n",
        "    load imported model instance\n",
        "    Args:\n",
        "        weights_path (str): If set, loads model weights from the given path\n",
        "    \"\"\"\n",
        "    model = Vgg_face_dag()\n",
        "    if weights_path:\n",
        "        state_dict = torch.load(weights_path)\n",
        "        model.load_state_dict(state_dict)\n",
        "    return model"
      ],
      "execution_count": 6,
      "outputs": []
    },
    {
      "cell_type": "code",
      "metadata": {
        "id": "v5xUu6b9rBsl",
        "colab_type": "code",
        "colab": {}
      },
      "source": [
        "import torch\n",
        "import torch.nn.functional as F\n",
        "from torch import nn\n",
        "\n",
        "class Generator(nn.Module):\n",
        "    def __init__(self, n_hidden, bottom_width=4, channels=512):\n",
        "        super().__init__()\n",
        "        self.channels = channels\n",
        "        self.bottom_width = bottom_width\n",
        "\n",
        "        self.linear = nn.Linear(n_hidden, bottom_width*bottom_width*channels)\n",
        "        self.dconv1 = nn.ConvTranspose2d(channels, channels // 2, 4, 2, 1)\n",
        "        self.dconv2 = nn.ConvTranspose2d(channels // 2, channels // 4, 4, 2, 1)\n",
        "        self.dconv3 = nn.ConvTranspose2d(channels // 4, channels // 8, 4, 2, 1)\n",
        "        self.dconv4 = nn.ConvTranspose2d(channels // 8, 3, 4, 2, 1)\n",
        "\n",
        "        self.bn0 = nn.BatchNorm1d(bottom_width*bottom_width*channels)\n",
        "        self.bn1 = nn.BatchNorm2d(channels // 2)\n",
        "        self.bn2 = nn.BatchNorm2d(channels // 4)\n",
        "        self.bn3 = nn.BatchNorm2d(channels // 8)\n",
        "\n",
        "    def forward(self, x):\n",
        "        x = F.relu(self.bn0(self.linear(x))).view(-1, self.channels, self.bottom_width, self.bottom_width)\n",
        "        x = F.relu(self.bn1(self.dconv1(x)))\n",
        "        x = F.relu(self.bn2(self.dconv2(x)))\n",
        "        x = F.relu(self.bn3(self.dconv3(x)))\n",
        "\n",
        "        x = torch.sigmoid(self.dconv4(x))\n",
        "\n",
        "        return x"
      ],
      "execution_count": 7,
      "outputs": []
    },
    {
      "cell_type": "code",
      "metadata": {
        "id": "t6bEqmFYrNyB",
        "colab_type": "code",
        "colab": {}
      },
      "source": [
        "class Compose(object):\n",
        "    def __init__(self, transforms):\n",
        "        self.transforms = transforms\n",
        "        \n",
        "    def __call__(self, x):\n",
        "        for t in self.transforms:\n",
        "            x = t(x)\n",
        "        return x\n",
        "    \n",
        "class Resize(object):\n",
        "    def __init__(self, input_size):\n",
        "        self.input_size = input_size\n",
        "        \n",
        "    def __call__(self, img):\n",
        "        img = img.resize((self.input_size, self.input_size),\n",
        "                                Image.BICUBIC)\n",
        "        return img\n",
        "    \n",
        "class Normalize_Tensor(object):\n",
        "    def __init__(self, color_mean, color_std):\n",
        "        self.color_mean = color_mean\n",
        "        self.color_std = color_std\n",
        "\n",
        "    def __call__(self, img):\n",
        "\n",
        "        # PIL画像をTensorに。大きさは最大1に規格化される\n",
        "        img = transforms.functional.to_tensor(img)\n",
        "\n",
        "        # 色情報の標準化\n",
        "        img = transforms.functional.normalize(\n",
        "            img, self.color_mean, self.color_std)\n",
        "\n",
        "        return img\n",
        "\n",
        "class ImageTransform():\n",
        "    def __init__(self, input_size, color_mean, color_std):\n",
        "        self.data_transform = {\n",
        "            'train' : Compose([\n",
        "                Resize(input_size),\n",
        "                Normalize_Tensor(color_mean, color_std)\n",
        "            ]),\n",
        "            'val' : Compose([\n",
        "                Resize(input_size),\n",
        "                Normalize_Tensor(color_mean, color_std)\n",
        "            ])\n",
        "        }\n",
        "    \n",
        "    def __call_(self, phase, img):\n",
        "        return self.data_transform[phase](img)"
      ],
      "execution_count": 8,
      "outputs": []
    },
    {
      "cell_type": "code",
      "metadata": {
        "id": "s86Vf2YTHzvp",
        "colab_type": "code",
        "colab": {
          "base_uri": "https://localhost:8080/",
          "height": 34
        },
        "outputId": "a5559869-c587-4d80-b3b6-e6be093e25c3"
      },
      "source": [
        "from torch import nn, optim\n",
        "\n",
        "device = torch.device(\"cuda:0\" if torch.cuda.is_available() else \"cpu\")\n",
        "# Set Model\n",
        "model = Generator(4096).to(device)\n",
        "print('Created Generator')\n",
        "# Set loss and optimizer\n",
        "criterion = nn.MSELoss()\n",
        "optimizer = optim.Adam(model.parameters())"
      ],
      "execution_count": 9,
      "outputs": [
        {
          "output_type": "stream",
          "text": [
            "Created Generator\n"
          ],
          "name": "stdout"
        }
      ]
    },
    {
      "cell_type": "code",
      "metadata": {
        "id": "i4UAJu92re1f",
        "colab_type": "code",
        "colab": {
          "base_uri": "https://localhost:8080/",
          "height": 360
        },
        "outputId": "fce1bdc9-657b-43d2-b87a-5242879704c3"
      },
      "source": [
        "import argparse\n",
        "import os\n",
        "from os.path import join\n",
        "\n",
        "import torch\n",
        "from torch.utils.data import DataLoader\n",
        "from torch import nn, optim\n",
        "from tqdm import tqdm\n",
        "from google.colab.patches import cv2_imshow\n",
        "import cv2\n",
        "\n",
        "\n",
        "#from dataloader import EmbedImagePairs\n",
        "#from face_encoder_model import vgg_face_dag\n",
        "#from face_decoder_model import Generator\n",
        "\n",
        "\n",
        "global_epoch = 0\n",
        "\n",
        "def _save_model(epoch, model, optimizer, fname):\n",
        "    torch.save({\n",
        "        'epoch': epoch,\n",
        "        'model_state_dict': model.state_dict(),\n",
        "        'optimizer_state_dict': optimizer.state_dict(),\n",
        "        }, join(output_dir_name, 'epoch_{}.pth'.format(epoch)))\n",
        "\n",
        "\n",
        "def train_epoch(model, trn_dataloader, criterion, optimizer, device):\n",
        "    model.train()\n",
        "\n",
        "    running_loss = 0\n",
        "    dataset_len = len(trn_dataloader.dataset)\n",
        "\n",
        "    count = 0\n",
        "    numOfElements = 0\n",
        "    for x, y in trn_dataloader:\n",
        "        count += 1\n",
        "        x = x.squeeze().to(device)  \n",
        "\n",
        "        y_img = cv2.cvtColor(np.einsum('abc->bca',y[0].numpy()*255),cv2.COLOR_BGR2RGB)\n",
        "        cv2_imshow(y_img)\n",
        "\n",
        "        y = y.to(device)\n",
        "\n",
        "        optimizer.zero_grad()\n",
        "\n",
        "        outputs = model(x)\n",
        "\n",
        "        loss = criterion(outputs, y)\n",
        "        loss.backward()\n",
        "        optimizer.step()\n",
        "        \n",
        "        o_img = cv2.cvtColor(np.einsum('abc->bca',outputs[0].cpu().detach().numpy()*255),cv2.COLOR_BGR2RGB)\n",
        "        cv2_imshow(o_img)\n",
        "        running_loss += loss.item() * x.size(0)\n",
        "        numOfElements += x.shape[0]\n",
        "        print(\"loss:\", running_loss / count, \"Steps:\", str(numOfElements) + \"/\" + str(dataset_len) )\n",
        "\n",
        "    \n",
        "    trn_loss = running_loss/len(trn_dataloader.dataset)\n",
        "    \n",
        "    return trn_loss\n",
        "\n",
        "\n",
        "def train(model, dataloaders, criterion, optimizer, device, output_dir_name, num_epochs=100):\n",
        "    trn_losses = []\n",
        "\n",
        "    # make dir where trained model saved\n",
        "    os.makedirs(output_dir_name, exist_ok=True)\n",
        "\n",
        "    # start at zero, end at num_epochs (including)\n",
        "    print(\"Start Training\")\n",
        "    for epoch in tqdm(range(global_epoch, num_epochs+1)):\n",
        "        # Training phase\n",
        "        trn_loss = train_epoch(model, dataloaders, criterion, optimizer, device)\n",
        "        trn_losses += [trn_loss]\n",
        "        print(\"Epoch: {}  || Loss: {}\".format(epoch, trn_loss))\n",
        "    \n",
        "        _save_model(epoch, model, optimizer, output_dir_name)\n",
        "\n",
        "\n",
        "base_dir='/content/drive/My Drive/Speech2Face/'\n",
        "input=\"vox1_dataset/unzippedFaces\"\n",
        "batch_size=128\n",
        "num_epochs=150\n",
        "checkpoint_path=None\n",
        "\n",
        "\n",
        "\n",
        "\n",
        "# Load face-encoder model\n",
        "face_encoder_path = join(base_dir, \"Pretrained\", \"vgg_face_dag.pth\")\n",
        "face_encoder_model = vgg_face_dag(face_encoder_path).to(device)\n",
        "color_mean, color_std = face_encoder_model.meta[\"mean\"], face_encoder_model.meta[\"std\"]\n",
        "color_mean = [tmp / 255.0 for tmp in color_mean]\n",
        "color_std = [tmp / 255.0 for tmp in color_std]\n",
        "\n",
        "# Set DataLoader\n",
        "input_path = join(base_dir, input)\n",
        "print('Image Pairing')\n",
        "dataset = EmbedImagePairs(input_path, face_encoder_model,\n",
        "                          color_mean, color_std, device)\n",
        "print('Creating dataloader')\n",
        "trn_dataloader = DataLoader(dataset, batch_size=batch_size, shuffle=True)\n",
        "output_dir_name = join(base_dir, \"models\", \"face_decoder\")\n",
        "if checkpoint_path:\n",
        "    checkpoint = torch.load(checkpoint_path)\n",
        "    global_epoch = checkpoint[\"epoch\"]\n",
        "    model.load_state_dict(checkpoint[\"model_state_dict\"])\n",
        "    optimizer.load_state_dict(checkpoint[\"optimizer_state_dict\"])\n",
        "# Train\n",
        "train(model, trn_dataloader, criterion, optimizer, device, output_dir_name, num_epochs=num_epochs)\n",
        "print(\"Finish training\")"
      ],
      "execution_count": null,
      "outputs": [
        {
          "output_type": "stream",
          "text": [
            "Image Pairing\n"
          ],
          "name": "stdout"
        },
        {
          "output_type": "stream",
          "text": [
            "\r  0%|          | 0/151 [00:00<?, ?it/s]"
          ],
          "name": "stderr"
        },
        {
          "output_type": "stream",
          "text": [
            "Creating dataloader\n",
            "Start Training\n"
          ],
          "name": "stdout"
        },
        {
          "output_type": "display_data",
          "data": {
            "image/png": "[encoded data removed]",
            "text/plain": [
              "<PIL.Image.Image image mode=RGB size=64x64 at 0x7F1EC838E208>"
            ]
          },
          "metadata": {
            "tags": []
          }
        },
        {
          "output_type": "display_data",
          "data": {
            "image/png": "[encoded data removed]",
            "text/plain": [
              "<PIL.Image.Image image mode=RGB size=64x64 at 0x7F1EC838E400>"
            ]
          },
          "metadata": {
            "tags": []
          }
        },
        {
          "output_type": "stream",
          "text": [
            "loss: 15.329229354858398 Steps 128/96555\n"
          ],
          "name": "stdout"
        },
        {
          "output_type": "display_data",
          "data": {
            "image/png": "[encoded data removed]",
            "text/plain": [
              "<PIL.Image.Image image mode=RGB size=64x64 at 0x7F1EC838E518>"
            ]
          },
          "metadata": {
            "tags": []
          }
        },
        {
          "output_type": "display_data",
          "data": {
            "image/png": "[encoded data removed]",
            "text/plain": [
              "<PIL.Image.Image image mode=RGB size=64x64 at 0x7F1EC838E208>"
            ]
          },
          "metadata": {
            "tags": []
          }
        },
        {
          "output_type": "stream",
          "text": [
            "loss: 14.789621829986572 Steps 256/96555\n"
          ],
          "name": "stdout"
        }
      ]
    },
    {
      "cell_type": "code",
      "metadata": {
        "id": "nNNWVCZRrq-A",
        "colab_type": "code",
        "colab": {}
      },
      "source": [
        ""
      ],
      "execution_count": null,
      "outputs": []
    }
  ]
}