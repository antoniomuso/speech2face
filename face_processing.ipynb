{
  "nbformat": 4,
  "nbformat_minor": 0,
  "metadata": {
    "colab": {
      "name": "face_processing.ipynb",
      "provenance": [],
      "private_outputs": true,
      "include_colab_link": true
    },
    "kernelspec": {
      "name": "python3",
      "display_name": "Python 3"
    }
  },
  "cells": [
    {
      "cell_type": "markdown",
      "metadata": {
        "id": "view-in-github",
        "colab_type": "text"
      },
      "source": [
        "<a href=\"https://colab.research.google.com/github/antoniomuso/speech2face/blob/master/face_processing.ipynb\" target=\"_parent\"><img src=\"https://colab.research.google.com/assets/colab-badge.svg\" alt=\"Open In Colab\"/></a>"
      ]
    },
    {
      "cell_type": "code",
      "metadata": {
        "id": "8BQpw02EO21K",
        "colab_type": "code",
        "colab": {}
      },
      "source": [
        "from google.colab import drive\n",
        "drive.mount('/content/drive')"
      ],
      "execution_count": null,
      "outputs": []
    },
    {
      "cell_type": "code",
      "metadata": {
        "id": "omXh_0lnavT6",
        "colab_type": "code",
        "colab": {}
      },
      "source": [
        "! cp \"/content/drive/My Drive/Speech2Face/zippedFaces.tar.gz\" /content\n",
        "! tar zxvf zippedFaces.tar.gz\n",
        "! rm zippedFaces.tar.gz"
      ],
      "execution_count": null,
      "outputs": []
    },
    {
      "cell_type": "code",
      "metadata": {
        "id": "w59EDQVO8r6v",
        "colab_type": "code",
        "colab": {}
      },
      "source": [
        "! pip install openface\n",
        "! pip3 install face_recognition\n",
        "\n",
        "from face_recognition import face_landmarks, face_locations, face_encodings"
      ],
      "execution_count": null,
      "outputs": []
    },
    {
      "cell_type": "code",
      "metadata": {
        "id": "s9uk5jzR8x7j",
        "colab_type": "code",
        "colab": {}
      },
      "source": [
        "#! pip install deepface\n",
        "#from deepface import DeepFace"
      ],
      "execution_count": null,
      "outputs": []
    },
    {
      "cell_type": "code",
      "metadata": {
        "id": "76KnWmm09EJ0",
        "colab_type": "code",
        "colab": {}
      },
      "source": [
        "# Workspace cleanup\n",
        "\n",
        "! rm -r Face_Feature/\n",
        "! rm -r Faces_rearranged/\n",
        "! rm face_features*.zip "
      ],
      "execution_count": null,
      "outputs": []
    },
    {
      "cell_type": "code",
      "metadata": {
        "id": "AOEtoMbdNYWA",
        "colab_type": "code",
        "colab": {}
      },
      "source": [
        "import glob\n",
        "\n",
        "import numpy as np\n",
        "import sys\n",
        "\n",
        "from PIL import Image\n",
        "from torch.utils.data import Dataset\n",
        "from torch.utils.data import DataLoader\n",
        "import  torchvision.transforms as transforms\n",
        "from torchvision.datasets import ImageFolder\n",
        "from random import randint\n",
        "\n",
        "import torch\n",
        "import torch.nn as nn\n",
        "import torch.nn.functional as F\n",
        "from torch import optim\n",
        "\n",
        "import os\n",
        "from os.path import join\n",
        "from os import listdir\n",
        "\n",
        "from tqdm import tqdm\n",
        "from google.colab.patches import cv2_imshow\n",
        "import cv2\n",
        "import sys\n",
        "\n",
        "import random"
      ],
      "execution_count": null,
      "outputs": []
    },
    {
      "cell_type": "code",
      "metadata": {
        "id": "TmqI6zWd9dLR",
        "colab_type": "code",
        "colab": {}
      },
      "source": [
        "import os, sys\n",
        "from IPython.utils import io\n",
        "\n",
        "class HiddenPrints:\n",
        "    def __enter__(self):\n",
        "        self._original_stdout = sys.stdout\n",
        "        sys.stdout = open(os.devnull, 'w')\n",
        "\n",
        "    def __exit__(self, exc_type, exc_val, exc_tb):\n",
        "        sys.stdout.close()\n",
        "        sys.stdout = self._original_stdout"
      ],
      "execution_count": null,
      "outputs": []
    },
    {
      "cell_type": "code",
      "metadata": {
        "id": "hxf2WEJFNpKF",
        "colab_type": "code",
        "colab": {}
      },
      "source": [
        "class Vgg_face_dag(nn.Module):\n",
        "\n",
        "    def __init__(self):\n",
        "        super(Vgg_face_dag, self).__init__()\n",
        "        self.meta = {'mean': [129.186279296875, 104.76238250732422, 93.59396362304688],\n",
        "                     'std': [1, 1, 1],\n",
        "                     'imageSize': [224, 224, 3]}\n",
        "        self.conv1_1 = nn.Conv2d(3, 64, kernel_size=[3, 3], stride=(1, 1), padding=(1, 1))\n",
        "        self.relu1_1 = nn.ReLU(inplace=True)\n",
        "        self.conv1_2 = nn.Conv2d(64, 64, kernel_size=[3, 3], stride=(1, 1), padding=(1, 1))\n",
        "        self.relu1_2 = nn.ReLU(inplace=True)\n",
        "        self.pool1 = nn.MaxPool2d(kernel_size=[2, 2], stride=[2, 2], padding=0, dilation=1, ceil_mode=False)\n",
        "        self.conv2_1 = nn.Conv2d(64, 128, kernel_size=[3, 3], stride=(1, 1), padding=(1, 1))\n",
        "        self.relu2_1 = nn.ReLU(inplace=True)\n",
        "        self.conv2_2 = nn.Conv2d(128, 128, kernel_size=[3, 3], stride=(1, 1), padding=(1, 1))\n",
        "        self.relu2_2 = nn.ReLU(inplace=True)\n",
        "        self.pool2 = nn.MaxPool2d(kernel_size=[2, 2], stride=[2, 2], padding=0, dilation=1, ceil_mode=False)\n",
        "        self.conv3_1 = nn.Conv2d(128, 256, kernel_size=[3, 3], stride=(1, 1), padding=(1, 1))\n",
        "        self.relu3_1 = nn.ReLU(inplace=True)\n",
        "        self.conv3_2 = nn.Conv2d(256, 256, kernel_size=[3, 3], stride=(1, 1), padding=(1, 1))\n",
        "        self.relu3_2 = nn.ReLU(inplace=True)\n",
        "        self.conv3_3 = nn.Conv2d(256, 256, kernel_size=[3, 3], stride=(1, 1), padding=(1, 1))\n",
        "        self.relu3_3 = nn.ReLU(inplace=True)\n",
        "        self.pool3 = nn.MaxPool2d(kernel_size=[2, 2], stride=[2, 2], padding=0, dilation=1, ceil_mode=False)\n",
        "        self.conv4_1 = nn.Conv2d(256, 512, kernel_size=[3, 3], stride=(1, 1), padding=(1, 1))\n",
        "        self.relu4_1 = nn.ReLU(inplace=True)\n",
        "        self.conv4_2 = nn.Conv2d(512, 512, kernel_size=[3, 3], stride=(1, 1), padding=(1, 1))\n",
        "        self.relu4_2 = nn.ReLU(inplace=True)\n",
        "        self.conv4_3 = nn.Conv2d(512, 512, kernel_size=[3, 3], stride=(1, 1), padding=(1, 1))\n",
        "        self.relu4_3 = nn.ReLU(inplace=True)\n",
        "        self.pool4 = nn.MaxPool2d(kernel_size=[2, 2], stride=[2, 2], padding=0, dilation=1, ceil_mode=False)\n",
        "        self.conv5_1 = nn.Conv2d(512, 512, kernel_size=[3, 3], stride=(1, 1), padding=(1, 1))\n",
        "        self.relu5_1 = nn.ReLU(inplace=True)\n",
        "        self.conv5_2 = nn.Conv2d(512, 512, kernel_size=[3, 3], stride=(1, 1), padding=(1, 1))\n",
        "        self.relu5_2 = nn.ReLU(inplace=True)\n",
        "        self.conv5_3 = nn.Conv2d(512, 512, kernel_size=[3, 3], stride=(1, 1), padding=(1, 1))\n",
        "        self.relu5_3 = nn.ReLU(inplace=True)\n",
        "        self.pool5 = nn.MaxPool2d(kernel_size=[2, 2], stride=[2, 2], padding=0, dilation=1, ceil_mode=False)\n",
        "        self.fc6 = nn.Linear(in_features=25088, out_features=4096, bias=True)\n",
        "        self.relu6 = nn.ReLU(inplace=True)\n",
        "        self.dropout6 = nn.Dropout(p=0.5)\n",
        "        self.fc7 = nn.Linear(in_features=4096, out_features=4096, bias=True)\n",
        "        self.relu7 = nn.ReLU(inplace=True)\n",
        "        self.dropout7 = nn.Dropout(p=0.5)\n",
        "        self.fc8 = nn.Linear(in_features=4096, out_features=2622, bias=True)\n",
        "\n",
        "    def forward(self, x0, is_fc8=False):\n",
        "        x1 = self.conv1_1(x0)\n",
        "        x2 = self.relu1_1(x1)\n",
        "        x3 = self.conv1_2(x2)\n",
        "        x4 = self.relu1_2(x3)\n",
        "        x5 = self.pool1(x4)\n",
        "        x6 = self.conv2_1(x5)\n",
        "        x7 = self.relu2_1(x6)\n",
        "        x8 = self.conv2_2(x7)\n",
        "        x9 = self.relu2_2(x8)\n",
        "        x10 = self.pool2(x9)\n",
        "        x11 = self.conv3_1(x10)\n",
        "        x12 = self.relu3_1(x11)\n",
        "        x13 = self.conv3_2(x12)\n",
        "        x14 = self.relu3_2(x13)\n",
        "        x15 = self.conv3_3(x14)\n",
        "        x16 = self.relu3_3(x15)\n",
        "        x17 = self.pool3(x16)\n",
        "        x18 = self.conv4_1(x17)\n",
        "        x19 = self.relu4_1(x18)\n",
        "        x20 = self.conv4_2(x19)\n",
        "        x21 = self.relu4_2(x20)\n",
        "        x22 = self.conv4_3(x21)\n",
        "        x23 = self.relu4_3(x22)\n",
        "        x24 = self.pool4(x23)\n",
        "        x25 = self.conv5_1(x24)\n",
        "        x26 = self.relu5_1(x25)\n",
        "        x27 = self.conv5_2(x26)\n",
        "        x28 = self.relu5_2(x27)\n",
        "        x29 = self.conv5_3(x28)\n",
        "        x30 = self.relu5_3(x29)\n",
        "        x31_preflatten = self.pool5(x30)\n",
        "        x31 = x31_preflatten.view(x31_preflatten.size(0), -1)\n",
        "        x32 = self.fc6(x31)\n",
        "        x33 = self.relu6(x32)\n",
        "        x34 = self.dropout6(x33)\n",
        "        x35 = self.fc7(x34)\n",
        "        x36 = self.relu7(x35)\n",
        "        x37 = self.dropout7(x36)\n",
        "        if is_fc8:\n",
        "            x38 = self.fc8(x37)\n",
        "        else:\n",
        "            x38 = x37\n",
        "        return x38\n",
        "\n",
        "\n",
        "def vgg_face_dag(weights_path=None, **kwargs):\n",
        "    \"\"\"\n",
        "    load imported model instance\n",
        "    Args:\n",
        "        weights_path (str): If set, loads model weights from the given path\n",
        "    \"\"\"\n",
        "    model = Vgg_face_dag()\n",
        "    if weights_path:\n",
        "        state_dict = torch.load(weights_path)\n",
        "        model.load_state_dict(state_dict)\n",
        "    return model"
      ],
      "execution_count": null,
      "outputs": []
    },
    {
      "cell_type": "code",
      "metadata": {
        "id": "HIkwNAYcPQri",
        "colab_type": "code",
        "colab": {}
      },
      "source": [
        "class _Normalize_Tensor(object):\n",
        "    def __init__(self, color_mean, color_std):\n",
        "        self.color_mean = color_mean\n",
        "        self.color_std = color_std\n",
        "\n",
        "    def __call__(self, img):\n",
        "        # Convert image to Tensor\n",
        "        img = transforms.functional.to_tensor(img)\n",
        "\n",
        "        # Normalize image by the parameter of pre-trained face-encoder\n",
        "        img = transforms.functional.normalize(\n",
        "            img, self.color_mean, self.color_std)\n",
        "\n",
        "        return img"
      ],
      "execution_count": null,
      "outputs": []
    },
    {
      "cell_type": "code",
      "metadata": {
        "id": "MMEt6gSvOvSr",
        "colab_type": "code",
        "colab": {}
      },
      "source": [
        "datasetPath = 'unzippedFaces'\n",
        "base_dir='/content/drive/My Drive/Speech2Face/'\n",
        "data_points = os.listdir(datasetPath) ## GETTING DATA POINTS THAT IS NAME OF CELEBRTIES."
      ],
      "execution_count": null,
      "outputs": []
    },
    {
      "cell_type": "code",
      "metadata": {
        "id": "RPcvoH0zN7mH",
        "colab_type": "code",
        "colab": {}
      },
      "source": [
        "device = 'cuda'\n",
        "face_encoder_path = join(base_dir, \"Pretrained\", \"vgg_face_dag.pth\")\n",
        "face_encoder_model = vgg_face_dag(face_encoder_path)\n",
        "face_encoder_model.eval()\n",
        "face_encoder_model.to(device)\n",
        "\n",
        "color_mean, color_std = face_encoder_model.meta[\"mean\"], face_encoder_model.meta[\"std\"]\n",
        "color_mean = [tmp / 255.0 for tmp in color_mean]\n",
        "color_std = [tmp / 255.0 for tmp in color_std]\n",
        "\n",
        "transform_fe = transforms.Compose([\n",
        "            transforms.Resize((224, 224)),\n",
        "            _Normalize_Tensor(color_mean, color_std)\n",
        "])\n",
        "\n"
      ],
      "execution_count": null,
      "outputs": []
    },
    {
      "cell_type": "code",
      "metadata": {
        "id": "rH6sRJBg9vvp",
        "colab_type": "code",
        "colab": {}
      },
      "source": [
        "# Deep-head-pose-LITE cloning\n",
        "! git clone https://github.com/OverEuro/deep-head-pose-lite.git\n",
        "! mv deep-head-pose-lite dhpl"
      ],
      "execution_count": null,
      "outputs": []
    },
    {
      "cell_type": "code",
      "metadata": {
        "id": "lpMS9Xcps3GQ",
        "colab_type": "code",
        "colab": {}
      },
      "source": [
        "from dhpl import stable_hopenetlite\n",
        "pos_net = stable_hopenetlite.shufflenet_v2_x1_0()\n",
        "saved_state_dict = torch.load('dhpl/model/shuff_epoch_120.pkl', map_location=\"cpu\")\n",
        "pos_net.load_state_dict(saved_state_dict, strict=False)\n",
        "pos_net.eval()"
      ],
      "execution_count": null,
      "outputs": []
    },
    {
      "cell_type": "code",
      "metadata": {
        "id": "D1Qh9YEyExhC",
        "colab_type": "code",
        "colab": {}
      },
      "source": [
        "# Deep-head-pose cloning\n",
        "! git clone https://github.com/natanielruiz/deep-head-pose.git\n",
        "! mv deep-head-pose/ dhp\n",
        "! cp /content/drive/My\\ Drive/Speech2Face/hopenet_robust_alpha1.pkl ."
      ],
      "execution_count": null,
      "outputs": []
    },
    {
      "cell_type": "code",
      "metadata": {
        "id": "izNfNfCAF0fm",
        "colab_type": "code",
        "colab": {}
      },
      "source": [
        "from dhp.code import hopenet\n",
        "import torchvision\n",
        "\n",
        "saved_state_dict = torch.load('/content/hopenet_robust_alpha1.pkl', map_location=\"cuda\")\n",
        "#print(saved_state_dict.keys())\n",
        "hopenet_model = hopenet.Hopenet(torchvision.models.resnet.Bottleneck, [3, 4, 6, 3], 66)\n",
        "hopenet_model.load_state_dict(saved_state_dict, strict=False)\n",
        "hopenet_model.to(device)\n",
        "hopenet_model.eval()\n",
        "\n",
        "pos_net = hopenet_model"
      ],
      "execution_count": null,
      "outputs": []
    },
    {
      "cell_type": "code",
      "metadata": {
        "id": "pyRA6YEKvJyt",
        "colab_type": "code",
        "colab": {}
      },
      "source": [
        "img = Image.open('/content/unzippedFaces/Abigail_Spencer/1.6/ZwprcvqTH3w/0001700.jpg')\n",
        "img"
      ],
      "execution_count": null,
      "outputs": []
    },
    {
      "cell_type": "code",
      "metadata": {
        "id": "qYpu79SEvl70",
        "colab_type": "code",
        "colab": {}
      },
      "source": [
        "def softmax_temperature(tensor, temperature):\n",
        "    result = torch.exp(tensor / temperature)\n",
        "    result = torch.div(result, torch.sum(result, 1).unsqueeze(1).expand_as(result))\n",
        "    return result\n",
        "\n",
        "\n",
        "transformations = transforms.Compose([transforms.Scale(224),\n",
        "    transforms.CenterCrop(224), transforms.ToTensor(),\n",
        "    transforms.Normalize(mean=[0.485, 0.456, 0.406], std=[0.229, 0.224, 0.225])])\n",
        "\n",
        "def y_p_r(img):\n",
        "  input = transformations(img).to(device)\n",
        "  yaw, pitch, roll = pos_net(input.unsqueeze(0))\n",
        "  yaw, pitch, roll = (yaw.cpu().detach(), pitch.cpu().detach(), roll.cpu().detach())\n",
        "  idx_tensor = torch.arange(66,dtype=torch.float)\n",
        "  # _, yaw_bpred = torch.max(yaw.data, 1)\n",
        "  # _, pitch_bpred = torch.max(pitch.data, 1)\n",
        "  # _, roll_bpred = torch.max(roll.data, 1)\n",
        "  # Continuous predictions\n",
        "  yaw_predicted = softmax_temperature(yaw.data, 1)\n",
        "  pitch_predicted = softmax_temperature(pitch.data, 1)\n",
        "  roll_predicted = softmax_temperature(roll.data, 1)\n",
        "  yaw_predicted = torch.sum(yaw_predicted * idx_tensor, 1).cpu() * 3 - 99\n",
        "  pitch_predicted = torch.sum(pitch_predicted * idx_tensor, 1).cpu() * 3 - 99\n",
        "  roll_predicted = torch.sum(roll_predicted * idx_tensor, 1).cpu() * 3 - 99\n",
        "\n",
        "  return yaw_predicted, pitch_predicted, roll_predicted\n",
        "\n",
        "\n",
        "#print(yaw_predicted, pitch_predicted, roll_predicted)"
      ],
      "execution_count": null,
      "outputs": []
    },
    {
      "cell_type": "code",
      "metadata": {
        "id": "JIytMAqvPKJT",
        "colab_type": "code",
        "colab": {}
      },
      "source": [
        "no_of_record_per_image = 20  ## NUMBER OF TIMES EVERY CELEBRITIES (DIFFERENT) IMAGES IS TO BE STORED\n",
        "face_feature = np.zeros((len(data_points)*no_of_record_per_image,4096)) ### ARRAY THAT WILL STORE THE FACE FEATURE\n",
        "face_feature_fc8 = np.zeros((len(data_points)*no_of_record_per_image,2622)) ### ARRAY THAT WILL STORE THE FACE FEATURE (fc8 layer)\n",
        "\n",
        "if not(\"Face_Feature\" in os.listdir()): \n",
        "    os.mkdir(\"Face_Feature\")\n",
        "    os.mkdir(\"Face_Feature/Faces\")\n",
        "index = 0\n",
        "### EXTRACTING FACE FEATURE.\n",
        "for i in tqdm(range(len(data_points))):\n",
        "    for j in range(no_of_record_per_image):\n",
        "      try: \n",
        "        path_img = join(datasetPath,data_points[i],\"1.6\",random.choice(listdir(join(datasetPath,data_points[i],\"1.6\"))))\n",
        "        image_path = join(path_img ,  random.choice(listdir(path_img)))\n",
        "        img = Image.open(image_path)\n",
        "      except:\n",
        "        continue\n",
        "\n",
        "      pos = face_locations(np.array(img), model='cnn')\n",
        "\n",
        "      if len(pos) == 0:\n",
        "       continue   \n",
        "\n",
        "      y, p, r = y_p_r(img)\n",
        "\n",
        "      #display(img)\n",
        "      #print(y, p, r)\n",
        "\n",
        "      if not (-10 < y < 10) or not (-15 <= p <= 15):\n",
        "        continue\n",
        "\n",
        "      encoding = face_encoder_model(transform_fe(img).unsqueeze_(0).to(device))\n",
        "      encoding_fc8 = face_encoder_model(transform_fe(img).unsqueeze_(0).to(device), is_fc8=True)\n",
        "      # face_feature[index] = encoding.cpu().detach().numpy()\n",
        "      face_feature[index,:] = encoding.cpu().detach().numpy()\n",
        "      face_feature_fc8[index,:] = encoding_fc8.cpu().detach().numpy()\n",
        "\n",
        "      # print(face_feature[index].sum())\n",
        "      filename = data_points[i] + \"_\"  + str(index) + \".jpg\"\n",
        "      path_save = join(\"Face_Feature/Faces\", filename)\n",
        "\n",
        "      img.save(path_save)\n",
        "    \n",
        "      index += 1\n",
        "      \n",
        "    \n",
        "np.save(\"Face_Feature/facefeature.npy\",face_feature[:index])\n",
        "np.save(\"Face_Feature/facefeature_fc8.npy\",face_feature_fc8[:index])\n",
        "print(index)"
      ],
      "execution_count": null,
      "outputs": []
    },
    {
      "cell_type": "code",
      "metadata": {
        "id": "W3dqs5hZUH31",
        "colab_type": "code",
        "colab": {}
      },
      "source": [
        " # np.save(\"Face_Feature/facefeature.npy\",face_feature[:index  ])\n",
        " print(face_feature[1].sum())\n",
        " print(face_feature.shape)"
      ],
      "execution_count": null,
      "outputs": []
    },
    {
      "cell_type": "code",
      "metadata": {
        "id": "-JT3mR-raCFz",
        "colab_type": "code",
        "colab": {}
      },
      "source": [
        "# prova = np.load(\"Face_Feature/facefeature.npy\")\n",
        "# print(prova[3752].sum())\n",
        "\n",
        "! zip -r face_features_hopenet.zip Face_Feature/ \n",
        "! cp face_features_hopenet.zip /content/drive/My\\ Drive/Speech2Face/\n",
        "#! rm -r Face_Feature/"
      ],
      "execution_count": null,
      "outputs": []
    },
    {
      "cell_type": "code",
      "metadata": {
        "id": "9QjFbpSKQWQR",
        "colab_type": "code",
        "colab": {}
      },
      "source": [
        "import shutil\n",
        "\n",
        "images_path = '/content/Face_Feature/Faces'\n",
        "out_path = '/content/Faces_rearranged'\n",
        "\n",
        "def rearrange_pictures():\n",
        "  for image in os.listdir(images_path):\n",
        "    full_path = os.path.join(images_path, image)\n",
        "    actor_name = image[:image.rindex('_')]\n",
        "  \n",
        "    actor_folder = os.path.join(out_path, actor_name)\n",
        "    #print(actor_folder)\n",
        "    \n",
        "    if not os.path.exists(actor_folder):\n",
        "      os.makedirs(actor_folder)\n",
        "    shutil.move(full_path, actor_folder)\n",
        "\n",
        "rearrange_pictures()"
      ],
      "execution_count": null,
      "outputs": []
    },
    {
      "cell_type": "code",
      "metadata": {
        "id": "1q-81xM59_Ap",
        "colab_type": "code",
        "colab": {}
      },
      "source": [
        "!cp /content/drive/My\\ Drive/Speech2Face/face_features_hopenet.zip . \n",
        "!unzip face_features_hopenet.zip"
      ],
      "execution_count": null,
      "outputs": []
    },
    {
      "cell_type": "code",
      "metadata": {
        "id": "vSG9Uw_wQwy3",
        "colab_type": "code",
        "colab": {}
      },
      "source": [
        "!cp /content/Face_Feature/facefeature.npy /content/Faces_rearranged\n",
        "!cp /content/Face_Feature/facefeature_fc8.npy /content/Faces_rearranged\n",
        "\n",
        "!zip -r face_features_hopenet_rearranged.zip /content/Faces_rearranged\n",
        "!cp face_features_hopenet_rearranged.zip /content/drive/My\\ Drive/Speech2Face/"
      ],
      "execution_count": null,
      "outputs": []
    }
  ]
}