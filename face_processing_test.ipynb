{
  "nbformat": 4,
  "nbformat_minor": 0,
  "metadata": {
    "colab": {
      "name": "face_processing.ipynb",
      "provenance": [],
      "private_outputs": true,
      "include_colab_link": true
    },
    "kernelspec": {
      "name": "python3",
      "display_name": "Python 3"
    },
    "accelerator": "GPU"
  },
  "cells": [
    {
      "cell_type": "markdown",
      "metadata": {
        "id": "view-in-github",
        "colab_type": "text"
      },
      "source": [
        "<a href=\"https://colab.research.google.com/github/antoniomuso/speech2face/blob/master/face_processing_test.ipynb\" target=\"_parent\"><img src=\"https://colab.research.google.com/assets/colab-badge.svg\" alt=\"Open In Colab\"/></a>"
      ]
    },
    {
      "cell_type": "code",
      "metadata": {
        "id": "AdxmhYdHQfy_",
        "colab_type": "code",
        "colab": {}
      },
      "source": [
        "! pip3 install face_recognition\n",
        "! pip install deepface"
      ],
      "execution_count": null,
      "outputs": []
    },
    {
      "cell_type": "code",
      "metadata": {
        "id": "AOEtoMbdNYWA",
        "colab_type": "code",
        "colab": {}
      },
      "source": [
        "import glob\n",
        "\n",
        "import numpy as np\n",
        "import sys\n",
        "\n",
        "from PIL import Image\n",
        "from torch.utils.data import Dataset\n",
        "from torch.utils.data import DataLoader\n",
        "import  torchvision.transforms as transforms\n",
        "from torchvision.datasets import ImageFolder\n",
        "from face_recognition import face_landmarks, face_locations, face_encodings\n",
        "from random import randint\n",
        "\n",
        "import torch\n",
        "import torch.nn as nn\n",
        "import torch.nn.functional as F\n",
        "from torch import optim\n",
        "\n",
        "import os\n",
        "from os.path import join\n",
        "\n",
        "from tqdm import tqdm\n",
        "from google.colab.patches import cv2_imshow\n",
        "import cv2\n",
        "from deepface import DeepFace\n",
        "import sys\n",
        "\n",
        "from os.path import join\n",
        "from os import listdir\n",
        "import random\n",
        "from IPython.utils import io\n",
        "import tensorflow as tf\n",
        "\n",
        "tf.compat.v1.logging.set_verbosity(tf.compat.v1.logging.ERROR)"
      ],
      "execution_count": null,
      "outputs": []
    },
    {
      "cell_type": "code",
      "metadata": {
        "id": "8BQpw02EO21K",
        "colab_type": "code",
        "colab": {}
      },
      "source": [
        "from google.colab import drive\n",
        "drive.mount('/content/drive')"
      ],
      "execution_count": null,
      "outputs": []
    },
    {
      "cell_type": "code",
      "metadata": {
        "id": "omXh_0lnavT6",
        "colab_type": "code",
        "colab": {}
      },
      "source": [
        " ! cp \"/content/drive/My Drive/Speech2Face/zippedFaces.tar.gz\" /content\n",
        " ! tar zxvf zippedFaces.tar.gz\n",
        " ! rm zippedFaces.tar.gz\n"
      ],
      "execution_count": null,
      "outputs": []
    },
    {
      "cell_type": "code",
      "metadata": {
        "id": "hxf2WEJFNpKF",
        "colab_type": "code",
        "colab": {}
      },
      "source": [
        "class Vgg_face_dag(nn.Module):\n",
        "\n",
        "    def __init__(self):\n",
        "        super(Vgg_face_dag, self).__init__()\n",
        "        self.meta = {'mean': [129.186279296875, 104.76238250732422, 93.59396362304688],\n",
        "                     'std': [1, 1, 1],\n",
        "                     'imageSize': [224, 224, 3]}\n",
        "        self.conv1_1 = nn.Conv2d(3, 64, kernel_size=[3, 3], stride=(1, 1), padding=(1, 1))\n",
        "        self.relu1_1 = nn.ReLU(inplace=True)\n",
        "        self.conv1_2 = nn.Conv2d(64, 64, kernel_size=[3, 3], stride=(1, 1), padding=(1, 1))\n",
        "        self.relu1_2 = nn.ReLU(inplace=True)\n",
        "        self.pool1 = nn.MaxPool2d(kernel_size=[2, 2], stride=[2, 2], padding=0, dilation=1, ceil_mode=False)\n",
        "        self.conv2_1 = nn.Conv2d(64, 128, kernel_size=[3, 3], stride=(1, 1), padding=(1, 1))\n",
        "        self.relu2_1 = nn.ReLU(inplace=True)\n",
        "        self.conv2_2 = nn.Conv2d(128, 128, kernel_size=[3, 3], stride=(1, 1), padding=(1, 1))\n",
        "        self.relu2_2 = nn.ReLU(inplace=True)\n",
        "        self.pool2 = nn.MaxPool2d(kernel_size=[2, 2], stride=[2, 2], padding=0, dilation=1, ceil_mode=False)\n",
        "        self.conv3_1 = nn.Conv2d(128, 256, kernel_size=[3, 3], stride=(1, 1), padding=(1, 1))\n",
        "        self.relu3_1 = nn.ReLU(inplace=True)\n",
        "        self.conv3_2 = nn.Conv2d(256, 256, kernel_size=[3, 3], stride=(1, 1), padding=(1, 1))\n",
        "        self.relu3_2 = nn.ReLU(inplace=True)\n",
        "        self.conv3_3 = nn.Conv2d(256, 256, kernel_size=[3, 3], stride=(1, 1), padding=(1, 1))\n",
        "        self.relu3_3 = nn.ReLU(inplace=True)\n",
        "        self.pool3 = nn.MaxPool2d(kernel_size=[2, 2], stride=[2, 2], padding=0, dilation=1, ceil_mode=False)\n",
        "        self.conv4_1 = nn.Conv2d(256, 512, kernel_size=[3, 3], stride=(1, 1), padding=(1, 1))\n",
        "        self.relu4_1 = nn.ReLU(inplace=True)\n",
        "        self.conv4_2 = nn.Conv2d(512, 512, kernel_size=[3, 3], stride=(1, 1), padding=(1, 1))\n",
        "        self.relu4_2 = nn.ReLU(inplace=True)\n",
        "        self.conv4_3 = nn.Conv2d(512, 512, kernel_size=[3, 3], stride=(1, 1), padding=(1, 1))\n",
        "        self.relu4_3 = nn.ReLU(inplace=True)\n",
        "        self.pool4 = nn.MaxPool2d(kernel_size=[2, 2], stride=[2, 2], padding=0, dilation=1, ceil_mode=False)\n",
        "        self.conv5_1 = nn.Conv2d(512, 512, kernel_size=[3, 3], stride=(1, 1), padding=(1, 1))\n",
        "        self.relu5_1 = nn.ReLU(inplace=True)\n",
        "        self.conv5_2 = nn.Conv2d(512, 512, kernel_size=[3, 3], stride=(1, 1), padding=(1, 1))\n",
        "        self.relu5_2 = nn.ReLU(inplace=True)\n",
        "        self.conv5_3 = nn.Conv2d(512, 512, kernel_size=[3, 3], stride=(1, 1), padding=(1, 1))\n",
        "        self.relu5_3 = nn.ReLU(inplace=True)\n",
        "        self.pool5 = nn.MaxPool2d(kernel_size=[2, 2], stride=[2, 2], padding=0, dilation=1, ceil_mode=False)\n",
        "        self.fc6 = nn.Linear(in_features=25088, out_features=4096, bias=True)\n",
        "        self.relu6 = nn.ReLU(inplace=True)\n",
        "        self.dropout6 = nn.Dropout(p=0.5)\n",
        "        self.fc7 = nn.Linear(in_features=4096, out_features=4096, bias=True)\n",
        "        self.relu7 = nn.ReLU(inplace=True)\n",
        "        self.dropout7 = nn.Dropout(p=0.5)\n",
        "        self.fc8 = nn.Linear(in_features=4096, out_features=2622, bias=True)\n",
        "\n",
        "    def forward(self, x0, is_fc8=False):\n",
        "        x1 = self.conv1_1(x0)\n",
        "        x2 = self.relu1_1(x1)\n",
        "        x3 = self.conv1_2(x2)\n",
        "        x4 = self.relu1_2(x3)\n",
        "        x5 = self.pool1(x4)\n",
        "        x6 = self.conv2_1(x5)\n",
        "        x7 = self.relu2_1(x6)\n",
        "        x8 = self.conv2_2(x7)\n",
        "        x9 = self.relu2_2(x8)\n",
        "        x10 = self.pool2(x9)\n",
        "        x11 = self.conv3_1(x10)\n",
        "        x12 = self.relu3_1(x11)\n",
        "        x13 = self.conv3_2(x12)\n",
        "        x14 = self.relu3_2(x13)\n",
        "        x15 = self.conv3_3(x14)\n",
        "        x16 = self.relu3_3(x15)\n",
        "        x17 = self.pool3(x16)\n",
        "        x18 = self.conv4_1(x17)\n",
        "        x19 = self.relu4_1(x18)\n",
        "        x20 = self.conv4_2(x19)\n",
        "        x21 = self.relu4_2(x20)\n",
        "        x22 = self.conv4_3(x21)\n",
        "        x23 = self.relu4_3(x22)\n",
        "        x24 = self.pool4(x23)\n",
        "        x25 = self.conv5_1(x24)\n",
        "        x26 = self.relu5_1(x25)\n",
        "        x27 = self.conv5_2(x26)\n",
        "        x28 = self.relu5_2(x27)\n",
        "        x29 = self.conv5_3(x28)\n",
        "        x30 = self.relu5_3(x29)\n",
        "        x31_preflatten = self.pool5(x30)\n",
        "        x31 = x31_preflatten.view(x31_preflatten.size(0), -1)\n",
        "        x32 = self.fc6(x31)\n",
        "        x33 = self.relu6(x32)\n",
        "        x34 = self.dropout6(x33)\n",
        "        x35 = self.fc7(x34)\n",
        "        x36 = self.relu7(x35)\n",
        "        x37 = self.dropout7(x36)\n",
        "        if is_fc8:\n",
        "            x38 = self.fc8(x37)\n",
        "        else:\n",
        "            x38 = x37\n",
        "        return x38\n",
        "\n",
        "\n",
        "def vgg_face_dag(weights_path=None, **kwargs):\n",
        "    \"\"\"\n",
        "    load imported model instance\n",
        "    Args:\n",
        "        weights_path (str): If set, loads model weights from the given path\n",
        "    \"\"\"\n",
        "    model = Vgg_face_dag()\n",
        "    if weights_path:\n",
        "        state_dict = torch.load(weights_path)\n",
        "        model.load_state_dict(state_dict)\n",
        "    return model"
      ],
      "execution_count": null,
      "outputs": []
    },
    {
      "cell_type": "code",
      "metadata": {
        "id": "HIkwNAYcPQri",
        "colab_type": "code",
        "colab": {}
      },
      "source": [
        "class _Normalize_Tensor(object):\n",
        "    def __init__(self, color_mean, color_std):\n",
        "        self.color_mean = color_mean\n",
        "        self.color_std = color_std\n",
        "\n",
        "    def __call__(self, img):\n",
        "        # Convert image to Tensor\n",
        "        img = transforms.functional.to_tensor(img)\n",
        "\n",
        "        # Normalize image by the parameter of pre-trained face-encoder\n",
        "        img = transforms.functional.normalize(\n",
        "            img, self.color_mean, self.color_std)\n",
        "\n",
        "        return img"
      ],
      "execution_count": null,
      "outputs": []
    },
    {
      "cell_type": "code",
      "metadata": {
        "id": "8MPKETMan0Uy",
        "colab_type": "code",
        "colab": {}
      },
      "source": [
        "import os, sys\n",
        "\n",
        "class HiddenPrints:\n",
        "    def __enter__(self):\n",
        "        self._original_stdout = sys.stdout\n",
        "        sys.stdout = open(os.devnull, 'w')\n",
        "\n",
        "    def __exit__(self, exc_type, exc_val, exc_tb):\n",
        "        sys.stdout.close()\n",
        "        sys.stdout = self._original_stdout"
      ],
      "execution_count": null,
      "outputs": []
    },
    {
      "cell_type": "code",
      "metadata": {
        "id": "MMEt6gSvOvSr",
        "colab_type": "code",
        "colab": {}
      },
      "source": [
        "datasetPath = 'unzippedFaces'\n",
        "base_dir='/content/drive/My Drive/Speech2Face/'\n",
        "data_points = os.listdir(datasetPath) ## GETTING DATA POINTS THAT IS NAME OF CELEBRTIES."
      ],
      "execution_count": null,
      "outputs": []
    },
    {
      "cell_type": "code",
      "metadata": {
        "id": "r6tXQr8iP4Kk",
        "colab_type": "code",
        "colab": {}
      },
      "source": [
        "import gc\n",
        "\n",
        "tot_deleted = 0\n",
        "tot_images = 0\n",
        "for i in tqdm(range(len(data_points))):\n",
        "  dir = data_points[i]\n",
        "\n",
        "  #for file_name in to_delete:\n",
        "  #  os.remove(file_name)\n",
        "  #to_delete = [] \n",
        "  s = join(datasetPath, dir+\"/1.6/\")\n",
        "  for subdir in listdir(s):\n",
        "    #print(subdir)\n",
        "    t = join(s, subdir)\n",
        "    for image in listdir(t):\n",
        "      gc.collect()\n",
        "      image_path = join(t, image)\n",
        "      #print(image_path)\n",
        "\n",
        "      tot_images += 1\n",
        "      #print(full_path)\n",
        "\n",
        "      try:\n",
        "          with io.capture_output() as captured:\n",
        "            out = DeepFace.analyze(image_path, actions=['emotion'])\n",
        "            DeepFace.\n",
        "        \n",
        "      except:\n",
        "        os.remove(image_path)\n",
        "        #print(\"removed\", image_path)\n",
        "        tot_deleted += 1\n",
        "        continue\n",
        "      \n",
        "      if (out['dominant_emotion'] != 'neutral'):\n",
        "        os.remove(image_path)\n",
        "        tot_deleted += 1\n",
        "\n",
        "\n",
        "print(\"Total images:\", tot_images)\n",
        "print(\"Total_deleted:\", tot_deleted)\n",
        "\n",
        "\n",
        "\n"
      ],
      "execution_count": null,
      "outputs": []
    },
    {
      "cell_type": "code",
      "metadata": {
        "id": "RPcvoH0zN7mH",
        "colab_type": "code",
        "colab": {}
      },
      "source": [
        "device = 'cuda'\n",
        "face_encoder_path = join(base_dir, \"Pretrained\", \"vgg_face_dag.pth\")\n",
        "face_encoder_model = vgg_face_dag(face_encoder_path)\n",
        "face_encoder_model.eval()\n",
        "face_encoder_model.to(device)\n",
        "\n",
        "color_mean, color_std = face_encoder_model.meta[\"mean\"], face_encoder_model.meta[\"std\"]\n",
        "color_mean = [tmp / 255.0 for tmp in color_mean]\n",
        "color_std = [tmp / 255.0 for tmp in color_std]\n",
        "\n",
        "transform_fe = transforms.Compose([\n",
        "            transforms.Resize((224, 224)),\n",
        "            _Normalize_Tensor(color_mean, color_std)\n",
        "])\n",
        "\n"
      ],
      "execution_count": null,
      "outputs": []
    },
    {
      "cell_type": "code",
      "metadata": {
        "id": "JIytMAqvPKJT",
        "colab_type": "code",
        "colab": {}
      },
      "source": [
        "no_of_record_per_image = 3  ## NUMBER OF TIMES EVERY CELEBRITIES (DIFFERENT) IMAGES IS TO BE STORED\n",
        "face_feature = np.zeros((len(data_points)*no_of_record_per_image,4096)) ### ARRAY THAT WILL STORE THE FACE FEATURE\n",
        "if not(\"Face_Feature\" in os.listdir()): ### MAKING DIR\n",
        "    os.mkdir(\"Face_Feature\")\n",
        "    os.mkdir(\"Face_Feature/Faces\")\n",
        "index = 0\n",
        "### EXTRACTING FACE FEATURE.\n",
        "for i in tqdm(range(len(data_points))):\n",
        "    for j in range(no_of_record_per_image):\n",
        "      try: \n",
        "        path_img = join(datasetPath,data_points[i],\"1.6\",random.choice(listdir(join(datasetPath,data_points[i],\"1.6\"))))\n",
        "        image_path = join(path_img ,  random.choice(listdir(path_img)))\n",
        "        img = Image.open(image_path)\n",
        "      except:\n",
        "        continue\n",
        "\n",
        "#      try:\n",
        "#          with io.capture_output() as captured:\n",
        "#            out = DeepFace.analyze(image_path, actions=['emotion'])\n",
        "#        \n",
        "#      except:\n",
        "#        continue\n",
        "#      \n",
        "#      if (out['dominant_emotion'] != 'neutral'):\n",
        "#       continue\n",
        "\n",
        "      # pos = face_locations(np.array(img), model='cnn')\n",
        "\n",
        "      # if len(pos) == 0:\n",
        "      #  continue   \n",
        "\n",
        "      encoding = face_encoder_model(transform_fe(img).unsqueeze_(0).to(device))\n",
        "      # face_feature[index] = encoding.cpu().detach().numpy()\n",
        "      face_feature[index,:] = encoding.cpu().detach().numpy()\n",
        "\n",
        "      # print(face_feature[index].sum())\n",
        "      filename = data_points[i] + \"_\"  + str(j) + \".jpg\"\n",
        "      path_save = join(\"Face_Feature/Faces\", filename)\n",
        "\n",
        "      img.save(path_save)\n",
        "    \n",
        "      index += 1\n",
        "      \n",
        "    \n",
        "np.save(\"Face_Feature/facefeature.npy\",face_feature[:index])\n",
        "print(index)"
      ],
      "execution_count": null,
      "outputs": []
    },
    {
      "cell_type": "code",
      "metadata": {
        "id": "W3dqs5hZUH31",
        "colab_type": "code",
        "colab": {}
      },
      "source": [
        " # np.save(\"Face_Feature/facefeature.npy\",face_feature[:index  ])\n",
        " print(face_feature[1].sum())\n",
        " print(face_feature.shape)"
      ],
      "execution_count": null,
      "outputs": []
    },
    {
      "cell_type": "code",
      "metadata": {
        "id": "h8nWb1LMI5tL",
        "colab_type": "code",
        "colab": {}
      },
      "source": [
        "# Save as in the repo\n",
        "\n",
        "np.save(\"facefeature_save2_filtered.npy\",face_feature)\n",
        "!cp facefeature_save2.npy /content/drive/My\\ Drive/Speech2Face/"
      ],
      "execution_count": null,
      "outputs": []
    },
    {
      "cell_type": "code",
      "metadata": {
        "id": "-JT3mR-raCFz",
        "colab_type": "code",
        "colab": {}
      },
      "source": [
        "# prova = np.load(\"Face_Feature/facefeature.npy\")\n",
        "# print(prova[3752].sum())\n",
        "\n",
        "! zip -r face_features_neutral_prefiltered.zip Face_Feature/ \n",
        "! cp face_features_neutral_prefiltered.zip /content/drive/My\\ Drive/Speech2Face/\n",
        "! rm -r Face_Feature/"
      ],
      "execution_count": null,
      "outputs": []
    }
  ]
}